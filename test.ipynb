{
 "cells": [
  {
   "cell_type": "code",
   "execution_count": 1,
   "id": "6a6f2544-6bf3-402a-bfea-534099a0ed2a",
   "metadata": {},
   "outputs": [],
   "source": [
    "from weasyprint import HTML"
   ]
  },
  {
   "cell_type": "code",
   "execution_count": 2,
   "id": "61a08caf-e50f-497e-94aa-29c5cd42e22c",
   "metadata": {},
   "outputs": [],
   "source": [
    "    html_file = \"template_cv2.html\"  # Ensure this HTML file exists\n",
    "    output_pdf = \"data_scientist_resume.pdf\""
   ]
  },
  {
   "cell_type": "code",
   "execution_count": 3,
   "id": "6a5d0897-9392-4d82-95a5-0928500d5d72",
   "metadata": {},
   "outputs": [
    {
     "name": "stdout",
     "output_type": "stream",
     "text": [
      "data_scientist_resume.pdf  template_cv_1.html\n",
      "make_pdf.py                test.ipynb\n",
      "template_cv2.html\n"
     ]
    }
   ],
   "source": [
    "%ls"
   ]
  },
  {
   "cell_type": "code",
   "execution_count": 4,
   "id": "ca486d9d-2569-45a9-bdc4-fb1c2489835e",
   "metadata": {},
   "outputs": [],
   "source": [
    "html = HTML(filename=html_file)"
   ]
  },
  {
   "cell_type": "code",
   "execution_count": 5,
   "id": "08a2970e-6b8b-47c6-be5b-d3d6b35a7424",
   "metadata": {},
   "outputs": [],
   "source": [
    "html.write_pdf(output_pdf)"
   ]
  },
  {
   "cell_type": "code",
   "execution_count": 10,
   "id": "161979d7-0f88-4fbf-a1f5-cfc1d0c3fae7",
   "metadata": {},
   "outputs": [],
   "source": [
    "import pydyf"
   ]
  },
  {
   "cell_type": "code",
   "execution_count": 11,
   "id": "7ed7f69b-d1c4-422a-9654-66000e958171",
   "metadata": {},
   "outputs": [
    {
     "data": {
      "text/plain": [
       "'0.11.0'"
      ]
     },
     "execution_count": 11,
     "metadata": {},
     "output_type": "execute_result"
    }
   ],
   "source": [
    "pydyf.__version__"
   ]
  },
  {
   "cell_type": "code",
   "execution_count": 9,
   "id": "25c5725b-8e0b-4b86-9a10-c076edd59ab0",
   "metadata": {},
   "outputs": [
    {
     "name": "stdout",
     "output_type": "stream",
     "text": [
      "Requirement already satisfied: pydyf in /Library/Frameworks/Python.framework/Versions/3.8/lib/python3.8/site-packages (0.11.0)\n",
      "\u001b[33mWARNING: You are using pip version 21.2.4; however, version 25.0.1 is available.\n",
      "You should consider upgrading via the '/Library/Frameworks/Python.framework/Versions/3.8/bin/python3 -m pip install --upgrade pip' command.\u001b[0m\n",
      "Note: you may need to restart the kernel to use updated packages.\n"
     ]
    }
   ],
   "source": [
    "pip install --upgrade pydyf"
   ]
  },
  {
   "cell_type": "code",
   "execution_count": 7,
   "id": "69f75e2d-2cc1-4603-9b10-ab2acdbc13bc",
   "metadata": {},
   "outputs": [
    {
     "data": {
      "text/plain": [
       "<weasyprint.document.Document at 0x7f7ff97b33a0>"
      ]
     },
     "execution_count": 7,
     "metadata": {},
     "output_type": "execute_result"
    }
   ],
   "source": [
    "html.render()"
   ]
  },
  {
   "cell_type": "code",
   "execution_count": null,
   "id": "6535ae77-def7-41ac-be4d-46c8595a24c5",
   "metadata": {},
   "outputs": [],
   "source": []
  }
 ],
 "metadata": {
  "kernelspec": {
   "display_name": "Python 3",
   "language": "python",
   "name": "python3"
  },
  "language_info": {
   "codemirror_mode": {
    "name": "ipython",
    "version": 3
   },
   "file_extension": ".py",
   "mimetype": "text/x-python",
   "name": "python",
   "nbconvert_exporter": "python",
   "pygments_lexer": "ipython3",
   "version": "3.8.6rc1"
  }
 },
 "nbformat": 4,
 "nbformat_minor": 5
}
